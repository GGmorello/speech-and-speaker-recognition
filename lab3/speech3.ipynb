{
  "cells": [
    {
      "cell_type": "code",
      "execution_count": 10,
      "metadata": {
        "id": "mypCdovxedLZ"
      },
      "outputs": [],
      "source": [
        "import numpy as np\n",
        "from lab3_tools import *\n",
        "from lab3_proto import *\n",
        "from lab2_tools import *\n",
        "from lab2_proto import *\n",
        "\n",
        "from sklearn.preprocessing import StandardScaler"
      ]
    },
    {
      "cell_type": "code",
      "execution_count": 11,
      "metadata": {
        "colab": {
          "base_uri": "https://localhost:8080/"
        },
        "id": "pzd0FhmkdNuP",
        "outputId": "37671432-2c73-4fd2-c594-88b93b3b27d7"
      },
      "outputs": [
        {
          "ename": "FileNotFoundError",
          "evalue": "[Errno 2] No such file or directory: 'lab2_models_all.npz'",
          "output_type": "error",
          "traceback": [
            "\u001b[0;31m---------------------------------------------------------------------------\u001b[0m",
            "\u001b[0;31mFileNotFoundError\u001b[0m                         Traceback (most recent call last)",
            "Cell \u001b[0;32mIn[11], line 1\u001b[0m\n\u001b[0;32m----> 1\u001b[0m phoneHMMs \u001b[39m=\u001b[39m np\u001b[39m.\u001b[39;49mload(\u001b[39m'\u001b[39;49m\u001b[39mlab2_models_all.npz\u001b[39;49m\u001b[39m'\u001b[39;49m, allow_pickle\u001b[39m=\u001b[39;49m\u001b[39mTrue\u001b[39;49;00m)[\u001b[39m'\u001b[39m\u001b[39mphoneHMMs\u001b[39m\u001b[39m'\u001b[39m]\u001b[39m.\u001b[39mitem()\n\u001b[1;32m      2\u001b[0m phones \u001b[39m=\u001b[39m \u001b[39msorted\u001b[39m(phoneHMMs\u001b[39m.\u001b[39mkeys())\n\u001b[1;32m      3\u001b[0m nstates \u001b[39m=\u001b[39m {phone: phoneHMMs[phone][\u001b[39m'\u001b[39m\u001b[39mmeans\u001b[39m\u001b[39m'\u001b[39m]\u001b[39m.\u001b[39mshape[\u001b[39m0\u001b[39m] \u001b[39mfor\u001b[39;00m phone \u001b[39min\u001b[39;00m phones}\n",
            "File \u001b[0;32m~/Code/speech-and-speaker-recognition/.venv/lib/python3.11/site-packages/numpy/lib/npyio.py:405\u001b[0m, in \u001b[0;36mload\u001b[0;34m(file, mmap_mode, allow_pickle, fix_imports, encoding, max_header_size)\u001b[0m\n\u001b[1;32m    403\u001b[0m     own_fid \u001b[39m=\u001b[39m \u001b[39mFalse\u001b[39;00m\n\u001b[1;32m    404\u001b[0m \u001b[39melse\u001b[39;00m:\n\u001b[0;32m--> 405\u001b[0m     fid \u001b[39m=\u001b[39m stack\u001b[39m.\u001b[39menter_context(\u001b[39mopen\u001b[39;49m(os_fspath(file), \u001b[39m\"\u001b[39;49m\u001b[39mrb\u001b[39;49m\u001b[39m\"\u001b[39;49m))\n\u001b[1;32m    406\u001b[0m     own_fid \u001b[39m=\u001b[39m \u001b[39mTrue\u001b[39;00m\n\u001b[1;32m    408\u001b[0m \u001b[39m# Code to distinguish from NumPy binary files and pickles.\u001b[39;00m\n",
            "\u001b[0;31mFileNotFoundError\u001b[0m: [Errno 2] No such file or directory: 'lab2_models_all.npz'"
          ]
        }
      ],
      "source": [
        "phoneHMMs = np.load('lab2_models_all.npz', allow_pickle=True)['phoneHMMs'].item()\n",
        "phones = sorted(phoneHMMs.keys())\n",
        "nstates = {phone: phoneHMMs[phone]['means'].shape[0] for phone in phones}\n",
        "stateList = [ph + '_' + str(id) for ph in phones for id in range(nstates[ph])]\n",
        "stateList"
      ]
    },
    {
      "cell_type": "code",
      "execution_count": null,
      "metadata": {
        "id": "mYZRfyrk7No0"
      },
      "outputs": [],
      "source": [
        "np.savez(\"./statelist.npz\",stateList)"
      ]
    },
    {
      "cell_type": "code",
      "execution_count": null,
      "metadata": {
        "id": "GyReqLXS7XaU"
      },
      "outputs": [],
      "source": [
        "test_example, _= loadAudio('tidigits/disc_4.1.1/tidigits/train/man/ae/z9z6531a.wav')\n",
        "path2info('tidigits/disc_4.1.1/tidigits/train/man/ae/z9z6531a.wav')"
      ]
    },
    {
      "cell_type": "code",
      "execution_count": 11,
      "metadata": {
        "colab": {
          "base_uri": "https://localhost:8080/",
          "height": 381
        },
        "id": "px3Px2ptf4jr",
        "outputId": "4530db17-13a9-45e1-9646-34c6bb0bfd35"
      },
      "outputs": [
        {
          "ename": "LibsndfileError",
          "evalue": "ignored",
          "output_type": "error",
          "traceback": [
            "\u001b[0;31m---------------------------------------------------------------------------\u001b[0m",
            "\u001b[0;31mLibsndfileError\u001b[0m                           Traceback (most recent call last)",
            "\u001b[0;32m<ipython-input-11-739b0fb58890>\u001b[0m in \u001b[0;36m<cell line: 2>\u001b[0;34m()\u001b[0m\n\u001b[1;32m      1\u001b[0m \u001b[0mfilename\u001b[0m \u001b[0;34m=\u001b[0m \u001b[0;34m'tidigits/disc_4.1.1/tidigits/train/man/nw/z43a.wav'\u001b[0m\u001b[0;34m\u001b[0m\u001b[0;34m\u001b[0m\u001b[0m\n\u001b[0;32m----> 2\u001b[0;31m \u001b[0msamples\u001b[0m\u001b[0;34m,\u001b[0m \u001b[0msamplingrate\u001b[0m \u001b[0;34m=\u001b[0m \u001b[0mloadAudio\u001b[0m\u001b[0;34m(\u001b[0m\u001b[0mfilename\u001b[0m\u001b[0;34m)\u001b[0m\u001b[0;34m\u001b[0m\u001b[0;34m\u001b[0m\u001b[0m\n\u001b[0m\u001b[1;32m      3\u001b[0m \u001b[0mlmfcc\u001b[0m \u001b[0;34m=\u001b[0m \u001b[0mmfcc\u001b[0m\u001b[0;34m(\u001b[0m\u001b[0msamples\u001b[0m\u001b[0;34m)\u001b[0m\u001b[0;34m\u001b[0m\u001b[0;34m\u001b[0m\u001b[0m\n\u001b[1;32m      4\u001b[0m \u001b[0mwordTrans\u001b[0m \u001b[0;34m=\u001b[0m \u001b[0mlist\u001b[0m\u001b[0;34m(\u001b[0m\u001b[0mpath2info\u001b[0m\u001b[0;34m(\u001b[0m\u001b[0mfilename\u001b[0m\u001b[0;34m)\u001b[0m\u001b[0;34m[\u001b[0m\u001b[0;36m2\u001b[0m\u001b[0;34m]\u001b[0m\u001b[0;34m)\u001b[0m\u001b[0;34m\u001b[0m\u001b[0;34m\u001b[0m\u001b[0m\n\u001b[1;32m      5\u001b[0m \u001b[0mwordTrans\u001b[0m\u001b[0;34m\u001b[0m\u001b[0;34m\u001b[0m\u001b[0m\n",
            "\u001b[0;32m/content/lab3_tools.py\u001b[0m in \u001b[0;36mloadAudio\u001b[0;34m(filename)\u001b[0m\n\u001b[1;32m     44\u001b[0m     \u001b[0mof\u001b[0m \u001b[0mvalues\u001b[0m\u001b[0;34m.\u001b[0m\u001b[0;34m\u001b[0m\u001b[0;34m\u001b[0m\u001b[0m\n\u001b[1;32m     45\u001b[0m     \"\"\"\n\u001b[0;32m---> 46\u001b[0;31m     \u001b[0;32mreturn\u001b[0m \u001b[0msf\u001b[0m\u001b[0;34m.\u001b[0m\u001b[0mread\u001b[0m\u001b[0;34m(\u001b[0m\u001b[0mfilename\u001b[0m\u001b[0;34m,\u001b[0m \u001b[0mdtype\u001b[0m\u001b[0;34m=\u001b[0m\u001b[0;34m'int16'\u001b[0m\u001b[0;34m)\u001b[0m\u001b[0;34m\u001b[0m\u001b[0;34m\u001b[0m\u001b[0m\n\u001b[0m\u001b[1;32m     47\u001b[0m \u001b[0;34m\u001b[0m\u001b[0m\n\u001b[1;32m     48\u001b[0m \u001b[0;32mdef\u001b[0m \u001b[0mframes2trans\u001b[0m\u001b[0;34m(\u001b[0m\u001b[0msequence\u001b[0m\u001b[0;34m,\u001b[0m \u001b[0moutfilename\u001b[0m\u001b[0;34m=\u001b[0m\u001b[0;32mNone\u001b[0m\u001b[0;34m,\u001b[0m \u001b[0mtimestep\u001b[0m\u001b[0;34m=\u001b[0m\u001b[0;36m0.01\u001b[0m\u001b[0;34m)\u001b[0m\u001b[0;34m:\u001b[0m\u001b[0;34m\u001b[0m\u001b[0;34m\u001b[0m\u001b[0m\n",
            "\u001b[0;32m/usr/local/lib/python3.10/dist-packages/soundfile.py\u001b[0m in \u001b[0;36mread\u001b[0;34m(file, frames, start, stop, dtype, always_2d, fill_value, out, samplerate, channels, format, subtype, endian, closefd)\u001b[0m\n\u001b[1;32m    283\u001b[0m \u001b[0;34m\u001b[0m\u001b[0m\n\u001b[1;32m    284\u001b[0m     \"\"\"\n\u001b[0;32m--> 285\u001b[0;31m     with SoundFile(file, 'r', samplerate, channels,\n\u001b[0m\u001b[1;32m    286\u001b[0m                    subtype, endian, format, closefd) as f:\n\u001b[1;32m    287\u001b[0m         \u001b[0mframes\u001b[0m \u001b[0;34m=\u001b[0m \u001b[0mf\u001b[0m\u001b[0;34m.\u001b[0m\u001b[0m_prepare_read\u001b[0m\u001b[0;34m(\u001b[0m\u001b[0mstart\u001b[0m\u001b[0;34m,\u001b[0m \u001b[0mstop\u001b[0m\u001b[0;34m,\u001b[0m \u001b[0mframes\u001b[0m\u001b[0;34m)\u001b[0m\u001b[0;34m\u001b[0m\u001b[0;34m\u001b[0m\u001b[0m\n",
            "\u001b[0;32m/usr/local/lib/python3.10/dist-packages/soundfile.py\u001b[0m in \u001b[0;36m__init__\u001b[0;34m(self, file, mode, samplerate, channels, subtype, endian, format, closefd)\u001b[0m\n\u001b[1;32m    656\u001b[0m         self._info = _create_info_struct(file, mode, samplerate, channels,\n\u001b[1;32m    657\u001b[0m                                          format, subtype, endian)\n\u001b[0;32m--> 658\u001b[0;31m         \u001b[0mself\u001b[0m\u001b[0;34m.\u001b[0m\u001b[0m_file\u001b[0m \u001b[0;34m=\u001b[0m \u001b[0mself\u001b[0m\u001b[0;34m.\u001b[0m\u001b[0m_open\u001b[0m\u001b[0;34m(\u001b[0m\u001b[0mfile\u001b[0m\u001b[0;34m,\u001b[0m \u001b[0mmode_int\u001b[0m\u001b[0;34m,\u001b[0m \u001b[0mclosefd\u001b[0m\u001b[0;34m)\u001b[0m\u001b[0;34m\u001b[0m\u001b[0;34m\u001b[0m\u001b[0m\n\u001b[0m\u001b[1;32m    659\u001b[0m         \u001b[0;32mif\u001b[0m \u001b[0mset\u001b[0m\u001b[0;34m(\u001b[0m\u001b[0mmode\u001b[0m\u001b[0;34m)\u001b[0m\u001b[0;34m.\u001b[0m\u001b[0missuperset\u001b[0m\u001b[0;34m(\u001b[0m\u001b[0;34m'r+'\u001b[0m\u001b[0;34m)\u001b[0m \u001b[0;32mand\u001b[0m \u001b[0mself\u001b[0m\u001b[0;34m.\u001b[0m\u001b[0mseekable\u001b[0m\u001b[0;34m(\u001b[0m\u001b[0;34m)\u001b[0m\u001b[0;34m:\u001b[0m\u001b[0;34m\u001b[0m\u001b[0;34m\u001b[0m\u001b[0m\n\u001b[1;32m    660\u001b[0m             \u001b[0;31m# Move write position to 0 (like in Python file objects)\u001b[0m\u001b[0;34m\u001b[0m\u001b[0;34m\u001b[0m\u001b[0m\n",
            "\u001b[0;32m/usr/local/lib/python3.10/dist-packages/soundfile.py\u001b[0m in \u001b[0;36m_open\u001b[0;34m(self, file, mode_int, closefd)\u001b[0m\n\u001b[1;32m   1214\u001b[0m             \u001b[0;31m# get the actual error code\u001b[0m\u001b[0;34m\u001b[0m\u001b[0;34m\u001b[0m\u001b[0m\n\u001b[1;32m   1215\u001b[0m             \u001b[0merr\u001b[0m \u001b[0;34m=\u001b[0m \u001b[0m_snd\u001b[0m\u001b[0;34m.\u001b[0m\u001b[0msf_error\u001b[0m\u001b[0;34m(\u001b[0m\u001b[0mfile_ptr\u001b[0m\u001b[0;34m)\u001b[0m\u001b[0;34m\u001b[0m\u001b[0;34m\u001b[0m\u001b[0m\n\u001b[0;32m-> 1216\u001b[0;31m             \u001b[0;32mraise\u001b[0m \u001b[0mLibsndfileError\u001b[0m\u001b[0;34m(\u001b[0m\u001b[0merr\u001b[0m\u001b[0;34m,\u001b[0m \u001b[0mprefix\u001b[0m\u001b[0;34m=\u001b[0m\u001b[0;34m\"Error opening {0!r}: \"\u001b[0m\u001b[0;34m.\u001b[0m\u001b[0mformat\u001b[0m\u001b[0;34m(\u001b[0m\u001b[0mself\u001b[0m\u001b[0;34m.\u001b[0m\u001b[0mname\u001b[0m\u001b[0;34m)\u001b[0m\u001b[0;34m)\u001b[0m\u001b[0;34m\u001b[0m\u001b[0;34m\u001b[0m\u001b[0m\n\u001b[0m\u001b[1;32m   1217\u001b[0m         \u001b[0;32mif\u001b[0m \u001b[0mmode_int\u001b[0m \u001b[0;34m==\u001b[0m \u001b[0m_snd\u001b[0m\u001b[0;34m.\u001b[0m\u001b[0mSFM_WRITE\u001b[0m\u001b[0;34m:\u001b[0m\u001b[0;34m\u001b[0m\u001b[0;34m\u001b[0m\u001b[0m\n\u001b[1;32m   1218\u001b[0m             \u001b[0;31m# Due to a bug in libsndfile version <= 1.0.25, frames != 0\u001b[0m\u001b[0;34m\u001b[0m\u001b[0;34m\u001b[0m\u001b[0m\n",
            "\u001b[0;31mLibsndfileError\u001b[0m: Error opening 'tidigits/disc_4.1.1/tidigits/train/man/nw/z43a.wav': System error."
          ]
        }
      ],
      "source": [
        "filename = 'tidigits/disc_4.1.1/tidigits/train/man/nw/z43a.wav'\n",
        "samples, samplingrate = loadAudio(filename)\n",
        "lmfcc = mfcc(samples)\n",
        "wordTrans = list(path2info(filename)[2])\n",
        "wordTrans"
      ]
    },
    {
      "cell_type": "code",
      "execution_count": null,
      "metadata": {
        "id": "Ou5sRS0jhOru"
      },
      "outputs": [],
      "source": [
        "from prondict import prondict\n",
        "phoneTrans = words2phones(wordTrans, prondict)\n",
        "phoneTrans"
      ]
    },
    {
      "cell_type": "code",
      "execution_count": null,
      "metadata": {
        "id": "WriefTUuhVpg"
      },
      "outputs": [],
      "source": [
        "utteranceHMM = concatHMMs(phoneHMMs, phoneTrans)"
      ]
    },
    {
      "cell_type": "code",
      "execution_count": null,
      "metadata": {
        "id": "QIzhnQONhebR"
      },
      "outputs": [],
      "source": [
        "stateTrans = [phone + '_' + str(stateid) for phone in phoneTrans\n",
        "                  for stateid in range(nstates[phone])]\n",
        "stateTrans[10]"
      ]
    },
    {
      "cell_type": "code",
      "execution_count": null,
      "metadata": {
        "id": "htp8Z6N2AyYS"
      },
      "outputs": [],
      "source": [
        "viterbiStateTrans = forcedAlignment(lmfcc, phoneHMMs, phoneTrans)"
      ]
    },
    {
      "cell_type": "code",
      "execution_count": null,
      "metadata": {
        "id": "qm3LtwHshlx3"
      },
      "outputs": [],
      "source": [
        "frames2trans(viterbiStateTrans, outfilename='z43a.lab')"
      ]
    },
    {
      "cell_type": "code",
      "execution_count": null,
      "metadata": {
        "id": "WzwTi83ohvwf"
      },
      "outputs": [],
      "source": [
        "import os\n",
        "traindata = []\n",
        "for root, dirs, files in os.walk('tidigits/disc_4.1.1/tidigits/train'):\n",
        "    for file in files:\n",
        "      if file.endswith('.wav'):\n",
        "          filename = os.path.join(root, file)\n",
        "          samples, samplingrate = loadAudio(filename)\n",
        "          lmfcc = mfcc(samples)\n",
        "          spec = mspec(samples)\n",
        "          wordTrans = list(path2info(filename)[2])\n",
        "          phoneTrans = words2phones(wordTrans, prondict)\n",
        "          targets = forcedAlignment(lmfcc, phoneHMMs, phoneTrans)\n",
        "          traindata.append({'filename': filename, 'lmfcc': lmfcc, 'mspec': 'mspec', 'targets': targets})"
      ]
    },
    {
      "cell_type": "code",
      "execution_count": 12,
      "metadata": {
        "id": "S_viMqjeC2YL"
      },
      "outputs": [],
      "source": [
        "def loaddata():\n",
        "    traindata = []\n",
        "    for root, dirs, files in os.walk():\n",
        "        for file in files:\n",
        "          if file.endswith('.wav'):\n",
        "              filename = os.path.join(root, file)\n",
        "              samples, samplingrate = loadAudio(filename)\n",
        "              lmfcc = mfcc(samples)\n",
        "              spec = mspec(samples)\n",
        "              wordTrans = list(path2info(filename)[2])\n",
        "              phoneTrans = words2phones(wordTrans, prondict)\n",
        "              targets = forcedAlignment(lmfcc, phoneHMMs, phoneTrans)\n",
        "              traindata.append({'filename': filename, 'lmfcc': lmfcc, 'mspec': 'mspec', 'targets': targets})\n",
        "    return traindata"
      ]
    },
    {
      "cell_type": "code",
      "execution_count": null,
      "metadata": {
        "id": "4uSLZhA1hvyL"
      },
      "outputs": [],
      "source": [
        "traindata = loaddata('tidigits/disc_4.1.1/tidigits/train')\n",
        "np.savez('traindata.npz', traindata=traindata)"
      ]
    },
    {
      "cell_type": "code",
      "execution_count": null,
      "metadata": {
        "id": "79QdajdeCyhT"
      },
      "outputs": [],
      "source": [
        "testdata = loaddata('tidigits/disc_4.1.1/tidigits/test')\n",
        "np.savez('testdata.npz', testdata=testdata)"
      ]
    },
    {
      "cell_type": "code",
      "execution_count": null,
      "metadata": {
        "id": "VLuQNlSOCyn0"
      },
      "outputs": [],
      "source": [
        "train_data = np.load('traindata.npz', allow_pickle=True)['traindata']\n",
        "n_val = round(len(train_data)//10)"
      ]
    },
    {
      "cell_type": "code",
      "execution_count": null,
      "metadata": {
        "id": "iKtvA0aiDwkV"
      },
      "outputs": [],
      "source": [
        "indexes = np.random.permutation(N)\n",
        "train = np.take(train_data,indexes)\n",
        "val = train[:n_val]\n",
        "train = train[n_val:]\n",
        "np.savez('train.npz', train=train)\n",
        "np.savez('val.npz', val=val)"
      ]
    },
    {
      "cell_type": "markdown",
      "metadata": {
        "id": "brXJT_6WKllf"
      },
      "source": [
        "## Acoustic Context (Dynamic Features)"
      ]
    },
    {
      "cell_type": "code",
      "execution_count": null,
      "metadata": {
        "id": "gf1X0yAYJc77"
      },
      "outputs": [],
      "source": [
        "def get_features(data, dynamic=True):\n",
        "    lmfcc_dim = data[0]['lmfcc'].shape[1]\n",
        "    mspec_dim = data[0]['mspec'].shape[1]\n",
        "    total_frames = sum([len(x['targets']) for x in data])\n",
        "    pad_size = 3\n",
        "    \n",
        "    if dynamic:\n",
        "        num_features = 7\n",
        "    else:\n",
        "        num_features = 1\n",
        "    \n",
        "    mfcc_features = np.zeros((total_frames, lmfcc_dim * num_features))\n",
        "    mspec_features = np.zeros((total_frames, mspec_dim * num_features))\n",
        "    targets = []\n",
        "    current_frame_idx = 0\n",
        "    \n",
        "    for utterance in data:\n",
        "        lmfcc_padded = np.pad(utterance['lmfcc'], pad_width=((pad_size, pad_size), (0, 0)), mode='reflect')\n",
        "        mspec_padded = np.pad(utterance['mspec'], pad_width=((pad_size, pad_size), (0, 0)), mode='reflect')\n",
        "        num_frames = lmfcc_padded.shape[0]\n",
        "\n",
        "        for frame_idx in range(num_frames - 6 * (1 - dynamic)):\n",
        "            if dynamic:\n",
        "                start = frame_idx\n",
        "                end = frame_idx + num_features\n",
        "                if start < pad_size:\n",
        "                    start = pad_size\n",
        "                    end = pad_size + num_features\n",
        "                elif end > num_frames - pad_size:\n",
        "                    start = num_frames - pad_size - num_features\n",
        "                    end = num_frames - pad_size\n",
        "                mfcc_features[current_frame_idx] = np.hstack(lmfcc_padded[start:end])\n",
        "                mspec_features[current_frame_idx] = np.hstack(mspec_padded[start:end])\n",
        "            else:\n",
        "                mfcc_features[current_frame_idx] = utterance['lmfcc'][frame_idx]\n",
        "                mspec_features[current_frame_idx] = utterance['mspec'][frame_idx]\n",
        "            \n",
        "            current_frame_idx += 1\n",
        "\n",
        "        targets += utterance['targets']\n",
        "\n",
        "    return mfcc_features, mspec_features, targets"
      ]
    },
    {
      "cell_type": "code",
      "execution_count": null,
      "metadata": {
        "id": "lH2eD2YqEvtP"
      },
      "outputs": [],
      "source": [
        "d_lmfcc_train, d_mspec_train, train_y = get_features(train,dynamic=True)\n",
        "d_lmfcc_val, d_mspec_val, val_y = get_features(val,dynamic=True)\n",
        "d_lmfcc_test, d_mspec_test, test_y = get_features(testdata,dynamic=True)"
      ]
    },
    {
      "cell_type": "code",
      "execution_count": null,
      "metadata": {
        "id": "LuLoFidZImcK"
      },
      "outputs": [],
      "source": [
        "lmfcc_train_x, mspec_train_x, _ = get_features(train,dynamic=False)\n",
        "lmfcc_val_x, mspec_val_x, _ = get_features(val,dynamic=False)\n",
        "lmfcc_test_x, mspec_test_x, _ = get_features(testdata,dynamic=False)\n"
      ]
    },
    {
      "cell_type": "code",
      "execution_count": null,
      "metadata": {
        "id": "HIU3W32qH1rU"
      },
      "outputs": [],
      "source": [
        "np.savez('d_lmfcc_train.npz', d_lmfcc_train=d_lmfcc_train)\n",
        "np.savez('d_lmfcc_val.npz', d_lmfcc_val=d_lmfcc_val)\n",
        "np.savez('d_lmfcc_test.npz', d_lmfcc_test=d_lmfcc_test)\n",
        "\n",
        "np.savez('d_mspec_train.npz', d_mspec_train=d_mspec_train)\n",
        "np.savez('d_mspec_val.npz', d_mspec_val=d_mspec_val)\n",
        "np.savez('d_mspec_test.npz', d_mspec_test=d_mspec_test)\n",
        "\n",
        "np.savez('train_y',train_y=train_y)\n",
        "np.savez('val_y',val_y=val_y)\n",
        "np.savez('test_y',test_y=test_y)"
      ]
    },
    {
      "cell_type": "code",
      "execution_count": null,
      "metadata": {
        "id": "t3o1RJqyIllu"
      },
      "outputs": [],
      "source": [
        "np.savez('lmfcc_train_x.npz', lmfcc_train_x=lmfcc_train_x)\n",
        "np.savez('lmfcc_val_x.npz', lmfcc_val_x=lmfcc_val_x)\n",
        "np.savez('lmfcc_test_x.npz', lmfcc_test_x=lmfcc_test_x)\n",
        "np.savez('mspec_train_x.npz', mspec_train_x=mspec_train_x)\n",
        "np.savez('mspec_val_x.npz', mspec_val_x=mspec_val_x)\n",
        "np.savez('mspec_test_x.npz', mspec_test_x=mspec_test_x)"
      ]
    },
    {
      "cell_type": "markdown",
      "metadata": {
        "id": "eYocnuqiKd8m"
      },
      "source": [
        "## Feature Standardisation"
      ]
    },
    {
      "cell_type": "code",
      "execution_count": null,
      "metadata": {
        "id": "KdFf58YyLiuu"
      },
      "outputs": [],
      "source": [
        "stateList = np.load('statelist.npz',allow_pickle=True)['arr_0']\n",
        "output_dim = len(stateList)"
      ]
    },
    {
      "cell_type": "code",
      "execution_count": null,
      "metadata": {
        "id": "quPL2ihwKdo3"
      },
      "outputs": [],
      "source": [
        "scaler = StandardScaler(copy=False)\n",
        "scaler.fit_transform(d_lmfcc_train)\n",
        "scaler.fit_transform(d_mspec_train)\n",
        "scaler.fit_transform(mspec_train_x)\n",
        "scaler.fit_transform(lmfcc_train_x)\n",
        "\n",
        "scaler.transform(d_lmfcc_val)\n",
        "scaler.transform(d_lmfcc_test)\n",
        "scaler.transform(d_mspec_val)\n",
        "scaler.transform(d_mspec_test)\n",
        "scaler.transform(mspec_train_x)\n",
        "scaler.transform(mspec_train_x)\n",
        "scaler.transform(lmfcc_val_x)\n",
        "scaler.transform(lmfcc_test_x)\n",
        "\n",
        "targets_train = np_utils.to_categorical(train_y, output_dim)\n",
        "targets_val = np_utils.to_categorical(val_y, output_dim)\n",
        "targets_test = np_utils.to_categorical(test_y, output_dim)\n",
        "targets_train = np_utils.to_categorical(train_y, output_dim)\n",
        "targets_val = np_utils.to_categorical(val_y, output_dim)\n",
        "targets_test = np_utils.to_categorical(test_y, output_dim)"
      ]
    },
    {
      "cell_type": "code",
      "execution_count": null,
      "metadata": {
        "id": "J_ZIWhwbJXLg"
      },
      "outputs": [],
      "source": []
    }
  ],
  "metadata": {
    "colab": {
      "provenance": []
    },
    "kernelspec": {
      "display_name": "Python 3",
      "name": "python3"
    },
    "language_info": {
      "codemirror_mode": {
        "name": "ipython",
        "version": 3
      },
      "file_extension": ".py",
      "mimetype": "text/x-python",
      "name": "python",
      "nbconvert_exporter": "python",
      "pygments_lexer": "ipython3",
      "version": "3.11.2"
    }
  },
  "nbformat": 4,
  "nbformat_minor": 0
}
